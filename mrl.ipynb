{
 "cells": [
  {
   "cell_type": "code",
   "execution_count": 1,
   "id": "6874c3ae",
   "metadata": {},
   "outputs": [],
   "source": [
    "import os\n",
    "import sys\n",
    "\n",
    "project_root = os.getcwd()\n",
    "sys.path.append(os.path.join(project_root, \"src\"))\n",
    "sys.path.append(os.path.join(project_root, \"scripts\"))\n",
    "sys.path.append(os.path.join(project_root, \"model\"))"
   ]
  },
  {
   "cell_type": "code",
   "execution_count": 2,
   "id": "324cae34",
   "metadata": {},
   "outputs": [
    {
     "name": "stderr",
     "output_type": "stream",
     "text": [
      "c:\\Users\\mulgy\\anaconda3\\envs\\dstc12\\Lib\\site-packages\\tqdm\\auto.py:21: TqdmWarning: IProgress not found. Please update jupyter and ipywidgets. See https://ipywidgets.readthedocs.io/en/stable/user_install.html\n",
      "  from .autonotebook import tqdm as notebook_tqdm\n"
     ]
    }
   ],
   "source": [
    "import json\n",
    "from sentence_transformers import InputExample\n",
    "\n",
    "jsonl_path = \"Dataset/AppenBanking/all.jsonl\"\n",
    "prefs_path = \"Dataset/AppenBanking/preference_pairs.json\"\n",
    "\n",
    "utterance_map = {}\n",
    "theme_utterances_set = set()\n",
    "\n",
    "with open(jsonl_path, \"r\", encoding=\"utf-8\") as f:\n",
    "    for line in f:\n",
    "        dialogue = json.loads(line)\n",
    "        for turn in dialogue.get(\"turns\", []):\n",
    "            utt_id = turn.get(\"utterance_id\")\n",
    "            utt_text = turn.get(\"utterance\")\n",
    "            if utt_id and utt_text:\n",
    "                utterance_map[utt_id] = utt_text\n",
    "                if turn.get(\"theme_label\") is not None:\n",
    "                    theme_utterances_set.add(utt_text)"
   ]
  },
  {
   "cell_type": "code",
   "execution_count": 3,
   "id": "800795ac",
   "metadata": {},
   "outputs": [
    {
     "name": "stdout",
     "output_type": "stream",
     "text": [
      "✅ should_link 기반 positive 쌍 수: 164\n"
     ]
    }
   ],
   "source": [
    "with open(prefs_path, \"r\", encoding=\"utf-8\") as f:\n",
    "    prefs = json.load(f)\n",
    "\n",
    "should_link_pairs = prefs.get(\"should_link\", [])\n",
    "\n",
    "text_1, text_2 = [], []\n",
    "for id1, id2 in should_link_pairs:\n",
    "    if id1 in utterance_map and id2 in utterance_map:\n",
    "        text_1.append(utterance_map[id1])\n",
    "        text_2.append(utterance_map[id2])\n",
    "\n",
    "print(f\"✅ should_link 기반 positive 쌍 수: {len(text_1)}\")"
   ]
  },
  {
   "cell_type": "code",
   "execution_count": 4,
   "id": "7f5239fd",
   "metadata": {},
   "outputs": [],
   "source": [
    "positive_examples = [InputExample(texts=[u1, u2]) for u1, u2 in zip(text_1, text_2)]"
   ]
  },
  {
   "cell_type": "code",
   "execution_count": 5,
   "id": "897ae3bf",
   "metadata": {},
   "outputs": [
    {
     "name": "stdout",
     "output_type": "stream",
     "text": [
      "🧹 SimCSE 자기쌍으로 추가할 발화 수: 1632\n"
     ]
    }
   ],
   "source": [
    "print(f\"🧹 SimCSE 자기쌍으로 추가할 발화 수: {len(theme_utterances_set)}\")\n",
    "\n",
    "self_pair_examples = [InputExample(texts=[utt, utt]) for utt in theme_utterances_set]"
   ]
  },
  {
   "cell_type": "code",
   "execution_count": 6,
   "id": "b96954fd",
   "metadata": {},
   "outputs": [
    {
     "name": "stdout",
     "output_type": "stream",
     "text": [
      "✅ 최종 SimCSE 학습쌍 수: 1796\n"
     ]
    }
   ],
   "source": [
    "train_examples = positive_examples + self_pair_examples\n",
    "print(f\"✅ 최종 SimCSE 학습쌍 수: {len(train_examples)}\")"
   ]
  },
  {
   "cell_type": "code",
   "execution_count": 7,
   "id": "e87104ff",
   "metadata": {},
   "outputs": [
    {
     "name": "stdout",
     "output_type": "stream",
     "text": [
      "✅ Train: 1436, Val: 179, Test: 181\n"
     ]
    }
   ],
   "source": [
    "import random\n",
    "\n",
    "# 시드 고정 (재현성 보장)\n",
    "random.seed(42)\n",
    "random.shuffle(train_examples)\n",
    "\n",
    "# 총 개수\n",
    "total = len(train_examples)\n",
    "n_train = int(total * 0.8)\n",
    "n_val = int(total * 0.1)\n",
    "\n",
    "# Split\n",
    "train_data = train_examples[:n_train]\n",
    "val_data   = train_examples[n_train:n_train + n_val]\n",
    "test_data  = train_examples[n_train + n_val:]\n",
    "\n",
    "print(f\"✅ Train: {len(train_data)}, Val: {len(val_data)}, Test: {len(test_data)}\")"
   ]
  },
  {
   "cell_type": "code",
   "execution_count": 19,
   "id": "8a1fa78f",
   "metadata": {},
   "outputs": [],
   "source": [
    "from datasets import Dataset\n",
    "\n",
    "def input_examples_to_dict_list(data):\n",
    "    return [{\"anchor\": ex.texts[0], \"positive\": ex.texts[1]} for ex in data]\n",
    "\n",
    "train_dataset = Dataset.from_list(input_examples_to_dict_list(train_data))\n",
    "val_dataset   = Dataset.from_list(input_examples_to_dict_list(val_data))\n",
    "test_dataset  = Dataset.from_list(input_examples_to_dict_list(test_data))\n"
   ]
  },
  {
   "cell_type": "code",
   "execution_count": 20,
   "id": "d9a6aa83",
   "metadata": {},
   "outputs": [
    {
     "name": "stdout",
     "output_type": "stream",
     "text": [
      "{'anchor': 'Yeah, I need to check my balance on my checking.', 'positive': 'Yeah, I need to check my balance on my checking.'}\n"
     ]
    }
   ],
   "source": [
    "print(train_dataset[0])"
   ]
  },
  {
   "cell_type": "code",
   "execution_count": 15,
   "id": "d2175ab9",
   "metadata": {},
   "outputs": [],
   "source": [
    "from sentence_transformers import SentenceTransformer\n",
    "from sentence_transformers.losses import MatryoshkaLoss\n",
    "from sentence_transformers.losses import MultipleNegativesRankingLoss\n",
    "\n",
    "model = SentenceTransformer(\"sentence-transformers/all-mpnet-base-v2\")\n",
    "\n",
    "base_loss = MultipleNegativesRankingLoss(model)\n",
    "\n",
    "matryoshka_loss = MatryoshkaLoss(\n",
    "    model=model,\n",
    "    loss=base_loss,\n",
    "    matryoshka_dims=[768, 512, 256, 128, 64],  # 원하는 차원들\n",
    "    matryoshka_weights=[1, 1, 1, 1, 1],         # 각 차원별 동일한 가중치\n",
    "    n_dims_per_step=-1                         # 각 스텝에서 모든 차원 학습\n",
    ")"
   ]
  },
  {
   "cell_type": "code",
   "execution_count": 23,
   "id": "54f8396e",
   "metadata": {},
   "outputs": [],
   "source": [
    "from sentence_transformers import SentenceTransformerTrainingArguments\n",
    "\n",
    "args = SentenceTransformerTrainingArguments(\n",
    "    output_dir=\"output/mpnet-matryoshka\",\n",
    "    num_train_epochs=3,\n",
    "    per_device_train_batch_size=32,\n",
    "    per_device_eval_batch_size=32,\n",
    "    learning_rate=2e-5,\n",
    "    warmup_ratio=0.1,\n",
    "    logging_steps=10,\n",
    "    eval_strategy=\"epoch\",\n",
    "    save_strategy=\"epoch\",\n",
    "    save_total_limit=2,\n",
    "    load_best_model_at_end=True,\n",
    "    metric_for_best_model=\"eval_loss\",\n",
    "    batch_sampler=\"no_duplicates\",  # MultipleNegativesRankingLoss 전용\n",
    "    bf16=True,  # GPU가 지원 시 사용\n",
    "    tf32=True,\n",
    ")"
   ]
  },
  {
   "cell_type": "code",
   "execution_count": 24,
   "id": "b9260574",
   "metadata": {},
   "outputs": [],
   "source": [
    "from sentence_transformers import SentenceTransformerTrainer\n",
    "\n",
    "trainer = SentenceTransformerTrainer(\n",
    "    model=model,\n",
    "    args=args,\n",
    "    train_dataset=train_dataset,\n",
    "    eval_dataset=val_dataset,\n",
    "    loss=matryoshka_loss,\n",
    ")"
   ]
  },
  {
   "cell_type": "code",
   "execution_count": 25,
   "id": "3d94fd3e",
   "metadata": {},
   "outputs": [
    {
     "data": {
      "text/html": [
       "\n",
       "    <div>\n",
       "      \n",
       "      <progress value='135' max='135' style='width:300px; height:20px; vertical-align: middle;'></progress>\n",
       "      [135/135 01:07, Epoch 3/3]\n",
       "    </div>\n",
       "    <table border=\"1\" class=\"dataframe\">\n",
       "  <thead>\n",
       " <tr style=\"text-align: left;\">\n",
       "      <th>Epoch</th>\n",
       "      <th>Training Loss</th>\n",
       "      <th>Validation Loss</th>\n",
       "    </tr>\n",
       "  </thead>\n",
       "  <tbody>\n",
       "    <tr>\n",
       "      <td>1</td>\n",
       "      <td>0.510600</td>\n",
       "      <td>2.502309</td>\n",
       "    </tr>\n",
       "    <tr>\n",
       "      <td>2</td>\n",
       "      <td>0.509700</td>\n",
       "      <td>2.400270</td>\n",
       "    </tr>\n",
       "    <tr>\n",
       "      <td>3</td>\n",
       "      <td>0.141700</td>\n",
       "      <td>2.416077</td>\n",
       "    </tr>\n",
       "  </tbody>\n",
       "</table><p>"
      ],
      "text/plain": [
       "<IPython.core.display.HTML object>"
      ]
     },
     "metadata": {},
     "output_type": "display_data"
    },
    {
     "data": {
      "text/plain": [
       "TrainOutput(global_step=135, training_loss=0.39243021452868426, metrics={'train_runtime': 67.5933, 'train_samples_per_second': 63.734, 'train_steps_per_second': 1.997, 'total_flos': 0.0, 'train_loss': 0.39243021452868426, 'epoch': 3.0})"
      ]
     },
     "execution_count": 25,
     "metadata": {},
     "output_type": "execute_result"
    }
   ],
   "source": [
    "trainer.train()"
   ]
  },
  {
   "cell_type": "code",
   "execution_count": 26,
   "id": "832aef01",
   "metadata": {},
   "outputs": [],
   "source": [
    "trainer.save_model(\"output/mpnet-matryoshka\")"
   ]
  }
 ],
 "metadata": {
  "kernelspec": {
   "display_name": "dstc12",
   "language": "python",
   "name": "python3"
  },
  "language_info": {
   "codemirror_mode": {
    "name": "ipython",
    "version": 3
   },
   "file_extension": ".py",
   "mimetype": "text/x-python",
   "name": "python",
   "nbconvert_exporter": "python",
   "pygments_lexer": "ipython3",
   "version": "3.11.11"
  }
 },
 "nbformat": 4,
 "nbformat_minor": 5
}
